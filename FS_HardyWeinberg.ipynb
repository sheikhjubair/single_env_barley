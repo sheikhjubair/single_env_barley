{
 "cells": [
  {
   "cell_type": "code",
   "execution_count": 4,
   "metadata": {},
   "outputs": [],
   "source": [
    "from sklearn.cluster import KMeans\n",
    "from sklearn.feature_selection import mutual_info_classif\n",
    "from sklearn.svm import SVC\n",
    "import pandas as pd\n",
    "from sklearn.feature_selection import chi2, mutual_info_classif\n",
    "import numpy as np\n",
    "import pickle\n",
    "from sklearn.ensemble import RandomForestRegressor\n",
    "from scipy.stats import pearsonr"
   ]
  },
  {
   "cell_type": "code",
   "execution_count": 5,
   "metadata": {},
   "outputs": [],
   "source": [
    "KFOLD = 5\n",
    "NUM_FEATURES = 24866\n",
    "MUTUAL_INFO_THRESH = 0.05"
   ]
  },
  {
   "cell_type": "markdown",
   "metadata": {},
   "source": [
    "### Feature Selection"
   ]
  },
  {
   "cell_type": "code",
   "execution_count": 6,
   "metadata": {},
   "outputs": [
    {
     "name": "stdout",
     "output_type": "stream",
     "text": [
      "Current fold:  0\n",
      "Current fold:  1\n",
      "Current fold:  2\n",
      "Current fold:  3\n",
      "Current fold:  4\n"
     ]
    }
   ],
   "source": [
    "mutual_info = np.zeros((NUM_FEATURES,))\n",
    "for i in range(KFOLD):\n",
    "    print('Current fold: ', i)\n",
    "    \n",
    "    file = '../Dataset/tr_hw_fold_' + str(i) + '.pkl'\n",
    "    tr_data = pd.read_pickle(file)\n",
    "    \n",
    "    kmeans = KMeans(n_clusters= 4, random_state= 0)\n",
    "    clus_dist = kmeans.fit_transform(tr_data)\n",
    "    labels = np.argmin(clus_dist, axis =1)\n",
    "    \n",
    "    mut_info_fold = mutual_info_classif(tr_data.iloc[:, : -2], labels)\n",
    "    mutual_info += mut_info_fold\n"
   ]
  },
  {
   "cell_type": "code",
   "execution_count": 7,
   "metadata": {},
   "outputs": [
    {
     "name": "stdout",
     "output_type": "stream",
     "text": [
      "[0.09468649 0.12770621 0.0332575  ... 0.01472941 0.06737512 0.07624408]\n"
     ]
    }
   ],
   "source": [
    "mutual_info /= KFOLD\n",
    "print(mutual_info)\n"
   ]
  },
  {
   "cell_type": "code",
   "execution_count": 8,
   "metadata": {},
   "outputs": [
    {
     "name": "stdout",
     "output_type": "stream",
     "text": [
      "(9833,)\n"
     ]
    }
   ],
   "source": [
    "selected_features = np.where(mutual_info > MUTUAL_INFO_THRESH)\n",
    "selected_features = selected_features[0]\n",
    "print(selected_features.shape)"
   ]
  },
  {
   "cell_type": "code",
   "execution_count": 10,
   "metadata": {},
   "outputs": [],
   "source": [
    "with open('../Dataset/hw_selected_features.pkl', 'wb') as featurefile:\n",
    "    pickle.dump(selected_features, featurefile)"
   ]
  },
  {
   "cell_type": "code",
   "execution_count": 11,
   "metadata": {},
   "outputs": [
    {
     "name": "stdout",
     "output_type": "stream",
     "text": [
      "Index(['JHI-Hv50k-2016-163759', 'JHI-Hv50k-2016-166560',\n",
      "       'JHI-Hv50k-2016-166368', 'JHI-Hv50k-2016-163688',\n",
      "       'JHI-Hv50k-2016-166576', 'JHI-Hv50k-2016-167734', 'SCRI_RS_906',\n",
      "       'JHI-Hv50k-2016-163691', 'JHI-Hv50k-2016-163731',\n",
      "       'JHI-Hv50k-2016-163732',\n",
      "       ...\n",
      "       'JHI-Hv50k-2016-429585', 'JHI-Hv50k-2016-216958',\n",
      "       'JHI-Hv50k-2016-214092', 'BOPA1_ConsensusGBS0371-2', 'SCRI_RS_210006',\n",
      "       'JHI-Hv50k-2016-46770', 'JHI-Hv50k-2016-261184', 'SCRI_RS_169904',\n",
      "       'JHI-Hv50k-2016-273856', 'JHI-Hv50k-2016-452632'],\n",
      "      dtype='object', length=24866)\n"
     ]
    }
   ],
   "source": [
    "ranked_features = np.argsort(mutual_info)[::-1]\n",
    "ranked_features = tr_data.columns[ranked_features]\n",
    "print(ranked_features)\n",
    "with open('../Dataset/hw_ranked_features.pkl', 'wb') as featurefile:\n",
    "    pickle.dump(ranked_features, featurefile)"
   ]
  },
  {
   "cell_type": "code",
   "execution_count": 12,
   "metadata": {},
   "outputs": [
    {
     "data": {
      "text/html": [
       "<div>\n",
       "<style scoped>\n",
       "    .dataframe tbody tr th:only-of-type {\n",
       "        vertical-align: middle;\n",
       "    }\n",
       "\n",
       "    .dataframe tbody tr th {\n",
       "        vertical-align: top;\n",
       "    }\n",
       "\n",
       "    .dataframe thead th {\n",
       "        text-align: right;\n",
       "    }\n",
       "</style>\n",
       "<table border=\"1\" class=\"dataframe\">\n",
       "  <thead>\n",
       "    <tr style=\"text-align: right;\">\n",
       "      <th></th>\n",
       "      <th>BK_05</th>\n",
       "      <th>BK_08</th>\n",
       "      <th>BOPA1_10012-1239</th>\n",
       "      <th>BOPA1_10126-999</th>\n",
       "      <th>BOPA1_10248-954</th>\n",
       "      <th>BOPA1_10317-448</th>\n",
       "      <th>BOPA1_10321-364</th>\n",
       "      <th>BOPA1_1040-279</th>\n",
       "      <th>BOPA1_1041-1441</th>\n",
       "      <th>BOPA1_10425-725</th>\n",
       "      <th>...</th>\n",
       "      <th>SCRI_RS_9350</th>\n",
       "      <th>SCRI_RS_9455</th>\n",
       "      <th>SCRI_RS_9469</th>\n",
       "      <th>SCRI_RS_9560</th>\n",
       "      <th>SCRI_RS_98293</th>\n",
       "      <th>SCRI_RS_98443</th>\n",
       "      <th>SCRI_RS_99344</th>\n",
       "      <th>SCRI_RS_994</th>\n",
       "      <th>SCRI_RS_9980</th>\n",
       "      <th>SCRI_RS_9991</th>\n",
       "    </tr>\n",
       "  </thead>\n",
       "  <tbody>\n",
       "    <tr>\n",
       "      <th>0</th>\n",
       "      <td>0.506667</td>\n",
       "      <td>0.665811</td>\n",
       "      <td>0.694444</td>\n",
       "      <td>0.509142</td>\n",
       "      <td>0.796308</td>\n",
       "      <td>0.197531</td>\n",
       "      <td>0.815008</td>\n",
       "      <td>0.898546</td>\n",
       "      <td>0.833924</td>\n",
       "      <td>0.403754</td>\n",
       "      <td>...</td>\n",
       "      <td>0.373457</td>\n",
       "      <td>0.632246</td>\n",
       "      <td>0.833924</td>\n",
       "      <td>0.741512</td>\n",
       "      <td>0.856267</td>\n",
       "      <td>0.5625</td>\n",
       "      <td>0.475046</td>\n",
       "      <td>0.796308</td>\n",
       "      <td>0.853057</td>\n",
       "      <td>0.077160</td>\n",
       "    </tr>\n",
       "    <tr>\n",
       "      <th>1</th>\n",
       "      <td>0.083056</td>\n",
       "      <td>0.033866</td>\n",
       "      <td>0.027778</td>\n",
       "      <td>0.082058</td>\n",
       "      <td>0.011586</td>\n",
       "      <td>0.308642</td>\n",
       "      <td>0.815008</td>\n",
       "      <td>0.898546</td>\n",
       "      <td>0.833924</td>\n",
       "      <td>0.132921</td>\n",
       "      <td>...</td>\n",
       "      <td>0.373457</td>\n",
       "      <td>0.632246</td>\n",
       "      <td>0.833924</td>\n",
       "      <td>0.019290</td>\n",
       "      <td>0.856267</td>\n",
       "      <td>0.5625</td>\n",
       "      <td>0.475046</td>\n",
       "      <td>0.796308</td>\n",
       "      <td>0.853057</td>\n",
       "      <td>0.521605</td>\n",
       "    </tr>\n",
       "    <tr>\n",
       "      <th>2</th>\n",
       "      <td>0.506667</td>\n",
       "      <td>0.665811</td>\n",
       "      <td>0.694444</td>\n",
       "      <td>0.509142</td>\n",
       "      <td>0.796308</td>\n",
       "      <td>0.308642</td>\n",
       "      <td>0.815008</td>\n",
       "      <td>0.898546</td>\n",
       "      <td>0.833924</td>\n",
       "      <td>0.132921</td>\n",
       "      <td>...</td>\n",
       "      <td>0.151235</td>\n",
       "      <td>0.632246</td>\n",
       "      <td>0.833924</td>\n",
       "      <td>0.741512</td>\n",
       "      <td>0.856267</td>\n",
       "      <td>0.5625</td>\n",
       "      <td>0.475046</td>\n",
       "      <td>0.011586</td>\n",
       "      <td>0.853057</td>\n",
       "      <td>0.521605</td>\n",
       "    </tr>\n",
       "    <tr>\n",
       "      <th>3</th>\n",
       "      <td>0.083056</td>\n",
       "      <td>0.033866</td>\n",
       "      <td>0.694444</td>\n",
       "      <td>0.509142</td>\n",
       "      <td>0.796308</td>\n",
       "      <td>0.197531</td>\n",
       "      <td>0.815008</td>\n",
       "      <td>0.898546</td>\n",
       "      <td>0.833924</td>\n",
       "      <td>0.403754</td>\n",
       "      <td>...</td>\n",
       "      <td>0.373457</td>\n",
       "      <td>0.041968</td>\n",
       "      <td>0.833924</td>\n",
       "      <td>0.239198</td>\n",
       "      <td>0.856267</td>\n",
       "      <td>0.0625</td>\n",
       "      <td>0.096574</td>\n",
       "      <td>0.796308</td>\n",
       "      <td>0.853057</td>\n",
       "      <td>0.521605</td>\n",
       "    </tr>\n",
       "    <tr>\n",
       "      <th>4</th>\n",
       "      <td>0.506667</td>\n",
       "      <td>0.665811</td>\n",
       "      <td>0.027778</td>\n",
       "      <td>0.082058</td>\n",
       "      <td>0.011586</td>\n",
       "      <td>0.197531</td>\n",
       "      <td>0.815008</td>\n",
       "      <td>0.898546</td>\n",
       "      <td>0.833924</td>\n",
       "      <td>0.132921</td>\n",
       "      <td>...</td>\n",
       "      <td>0.373457</td>\n",
       "      <td>0.041968</td>\n",
       "      <td>0.833924</td>\n",
       "      <td>0.741512</td>\n",
       "      <td>0.856267</td>\n",
       "      <td>0.5625</td>\n",
       "      <td>0.475046</td>\n",
       "      <td>0.796308</td>\n",
       "      <td>0.853057</td>\n",
       "      <td>0.521605</td>\n",
       "    </tr>\n",
       "  </tbody>\n",
       "</table>\n",
       "<p>5 rows × 9833 columns</p>\n",
       "</div>"
      ],
      "text/plain": [
       "      BK_05     BK_08  BOPA1_10012-1239  BOPA1_10126-999  BOPA1_10248-954  \\\n",
       "0  0.506667  0.665811          0.694444         0.509142         0.796308   \n",
       "1  0.083056  0.033866          0.027778         0.082058         0.011586   \n",
       "2  0.506667  0.665811          0.694444         0.509142         0.796308   \n",
       "3  0.083056  0.033866          0.694444         0.509142         0.796308   \n",
       "4  0.506667  0.665811          0.027778         0.082058         0.011586   \n",
       "\n",
       "   BOPA1_10317-448  BOPA1_10321-364  BOPA1_1040-279  BOPA1_1041-1441  \\\n",
       "0         0.197531         0.815008        0.898546         0.833924   \n",
       "1         0.308642         0.815008        0.898546         0.833924   \n",
       "2         0.308642         0.815008        0.898546         0.833924   \n",
       "3         0.197531         0.815008        0.898546         0.833924   \n",
       "4         0.197531         0.815008        0.898546         0.833924   \n",
       "\n",
       "   BOPA1_10425-725  ...  SCRI_RS_9350  SCRI_RS_9455  SCRI_RS_9469  \\\n",
       "0         0.403754  ...      0.373457      0.632246      0.833924   \n",
       "1         0.132921  ...      0.373457      0.632246      0.833924   \n",
       "2         0.132921  ...      0.151235      0.632246      0.833924   \n",
       "3         0.403754  ...      0.373457      0.041968      0.833924   \n",
       "4         0.132921  ...      0.373457      0.041968      0.833924   \n",
       "\n",
       "   SCRI_RS_9560  SCRI_RS_98293  SCRI_RS_98443  SCRI_RS_99344  SCRI_RS_994  \\\n",
       "0      0.741512       0.856267         0.5625       0.475046     0.796308   \n",
       "1      0.019290       0.856267         0.5625       0.475046     0.796308   \n",
       "2      0.741512       0.856267         0.5625       0.475046     0.011586   \n",
       "3      0.239198       0.856267         0.0625       0.096574     0.796308   \n",
       "4      0.741512       0.856267         0.5625       0.475046     0.796308   \n",
       "\n",
       "   SCRI_RS_9980  SCRI_RS_9991  \n",
       "0      0.853057      0.077160  \n",
       "1      0.853057      0.521605  \n",
       "2      0.853057      0.521605  \n",
       "3      0.853057      0.521605  \n",
       "4      0.853057      0.521605  \n",
       "\n",
       "[5 rows x 9833 columns]"
      ]
     },
     "execution_count": 12,
     "metadata": {},
     "output_type": "execute_result"
    }
   ],
   "source": [
    "tr_data.iloc[:, selected_features].head(5)"
   ]
  },
  {
   "cell_type": "code",
   "execution_count": 13,
   "metadata": {},
   "outputs": [
    {
     "name": "stdout",
     "output_type": "stream",
     "text": [
      "0.5287568731548516\n",
      "0.43428568768226034\n"
     ]
    }
   ],
   "source": [
    "fhb_predicted = []\n",
    "don_predicted = []\n",
    "fhb_true = []\n",
    "don_true = []\n",
    "\n",
    "pcc_don = 0\n",
    "pcc_fhb = 0\n",
    "for i in range(KFOLD):\n",
    "    tr_file = '../Dataset/tr_hw_fold_' + str(i) + '.pkl'\n",
    "    tr_data = pd.read_pickle(tr_file)\n",
    "    x = tr_data.iloc[:, :-2].iloc[:, selected_features].to_numpy()\n",
    "    y = tr_data.iloc[:, -2:].to_numpy()\n",
    "    \n",
    "    rfRegressor = RandomForestRegressor(n_estimators=500, random_state=0)\n",
    "    rfRegressor.fit(x, y)\n",
    "    \n",
    "    test_file = '../Dataset/test_hw_fold_' + str(i) + '.pkl'\n",
    "    test_data = pd.read_pickle(test_file)\n",
    "    x = test_data.iloc[:, :-2].iloc[:, selected_features].to_numpy()\n",
    "    y = test_data.iloc[:, -2:].to_numpy()\n",
    "    \n",
    "    predicted = rfRegressor.predict(x)\n",
    "    \n",
    "    fhb_predicted += predicted[:, 0].tolist()\n",
    "    fhb_true += y[:, 0].tolist()\n",
    "    \n",
    "    don_predicted += predicted[:, 1].tolist()\n",
    "    don_true += y[:, 1].tolist()\n",
    "    \n",
    "    pcc_fhb += pearsonr(y[:, 0], predicted[:, 0])[0]\n",
    "    pcc_don += pearsonr(y[:, 1], predicted[:, 1])[0]\n",
    "    \n",
    "pcc_fhb /= KFOLD\n",
    "pcc_don /= KFOLD\n",
    "\n",
    "print(pcc_fhb)\n",
    "print(pcc_don)\n",
    "    \n",
    "    \n",
    "    "
   ]
  },
  {
   "cell_type": "code",
   "execution_count": 14,
   "metadata": {},
   "outputs": [
    {
     "data": {
      "image/png": "[encoded data removed]",
      "text/plain": [
       "<Figure size 432x288 with 1 Axes>"
      ]
     },
     "metadata": {
      "needs_background": "light"
     },
     "output_type": "display_data"
    }
   ],
   "source": [
    "import matplotlib.pyplot as plt\n",
    "fig = plt.scatter(don_true, don_predicted)\n",
    "plt.xlabel('Original DON')\n",
    "plt.ylabel('Predicted DON')\n",
    "plt.show()"
   ]
  },
  {
   "cell_type": "code",
   "execution_count": 15,
   "metadata": {},
   "outputs": [
    {
     "data": {
      "image/png": "[encoded data removed]",
      "text/plain": [
       "<Figure size 432x288 with 1 Axes>"
      ]
     },
     "metadata": {
      "needs_background": "light"
     },
     "output_type": "display_data"
    }
   ],
   "source": [
    "import matplotlib.pyplot as plt\n",
    "fig = plt.scatter(fhb_true, fhb_predicted)\n",
    "plt.xlabel('Original FHB')\n",
    "plt.ylabel('Predicted FHB')\n",
    "plt.show()"
   ]
  },
  {
   "cell_type": "code",
   "execution_count": null,
   "metadata": {},
   "outputs": [],
   "source": []
  }
 ],
 "metadata": {
  "kernelspec": {
   "display_name": "conda_kernel",
   "language": "python",
   "name": "conda_kernel"
  },
  "language_info": {
   "codemirror_mode": {
    "name": "ipython",
    "version": 3
   },
   "file_extension": ".py",
   "mimetype": "text/x-python",
   "name": "python",
   "nbconvert_exporter": "python",
   "pygments_lexer": "ipython3",
   "version": "3.8.5"
  }
 },
 "nbformat": 4,
 "nbformat_minor": 4
}
