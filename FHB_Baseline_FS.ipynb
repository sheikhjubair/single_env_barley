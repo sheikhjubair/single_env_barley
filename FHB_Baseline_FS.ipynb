{
 "cells": [
  {
   "cell_type": "code",
   "execution_count": 42,
   "metadata": {},
   "outputs": [],
   "source": [
    "from sklearn.ensemble import RandomForestClassifier\n",
    "from sklearn.metrics import classification_report, confusion_matrix\n",
    "from sklearn.svm import SVC\n",
    "import pandas as pd\n",
    "from sklearn.feature_selection import chi2, mutual_info_classif\n",
    "import numpy as np"
   ]
  },
  {
   "cell_type": "markdown",
   "metadata": {},
   "source": [
    "# Loading Data"
   ]
  },
  {
   "cell_type": "code",
   "execution_count": 43,
   "metadata": {},
   "outputs": [],
   "source": [
    "tr_fhb = pd.read_pickle('../Dataset/tr_fhb.pkl')\n",
    "test_fhb = pd.read_pickle('../Dataset/test_fhb.pkl')\n",
    "vali_fhb = pd.read_pickle('../Dataset/vali_fhb.pkl')"
   ]
  },
  {
   "cell_type": "code",
   "execution_count": 44,
   "metadata": {},
   "outputs": [],
   "source": [
    "RANDOM_STATE = 5"
   ]
  },
  {
   "cell_type": "code",
   "execution_count": 45,
   "metadata": {},
   "outputs": [],
   "source": [
    "germplasm_hw_tr = pd.read_pickle('../Dataset/hw_encoded_tr.pkl')\n",
    "germplasm_hw_test = pd.read_pickle('../Dataset/hw_encoded_test.pkl')\n",
    "germplasm_hw_val = pd.read_pickle('../Dataset/hw_encoded_val.pkl')"
   ]
  },
  {
   "cell_type": "code",
   "execution_count": 46,
   "metadata": {},
   "outputs": [],
   "source": [
    "germplasm_sm_tr = pd.read_pickle('../Dataset/sm_encoded_tr.pkl')\n",
    "germplasm_sm_test = pd.read_pickle('../Dataset/sm_encoded_test.pkl')\n",
    "germplasm_sm_val = pd.read_pickle('../Dataset/sm_encoded_val.pkl')"
   ]
  },
  {
   "cell_type": "markdown",
   "metadata": {},
   "source": [
    "# Feature selection"
   ]
  },
  {
   "cell_type": "code",
   "execution_count": 47,
   "metadata": {},
   "outputs": [
    {
     "name": "stdout",
     "output_type": "stream",
     "text": [
      "[0.0335133  0.         0.         0.00061058 0.00174838 0.03300673\n",
      " 0.00313995 0.         0.00743667 0.00261085]\n"
     ]
    }
   ],
   "source": [
    "mut_info_hw = mutual_info_classif(germplasm_hw_tr.to_numpy(dtype=np.float), tr_fhb.to_numpy())\n",
    "print(mut_info_hw[:10])"
   ]
  },
  {
   "cell_type": "code",
   "execution_count": 48,
   "metadata": {},
   "outputs": [
    {
     "name": "stdout",
     "output_type": "stream",
     "text": [
      "15043\n"
     ]
    }
   ],
   "source": [
    "mut_info_hw_selected = mut_info_hw > 0\n",
    "mut_info_hw_selected_ind = np.where(mut_info_hw > 0)\n",
    "print(np.sum(mut_info_hw_selected))"
   ]
  },
  {
   "cell_type": "code",
   "execution_count": 49,
   "metadata": {},
   "outputs": [
    {
     "name": "stdout",
     "output_type": "stream",
     "text": [
      "[0.         0.01718892 0.01566394 0.         0.         0.\n",
      " 0.         0.01448701 0.0064845  0.04270139]\n"
     ]
    }
   ],
   "source": [
    "mut_info_sm = mutual_info_classif(germplasm_sm_tr.to_numpy(dtype=np.float), tr_fhb.to_numpy())\n",
    "print(mut_info_sm[:10])"
   ]
  },
  {
   "cell_type": "code",
   "execution_count": 50,
   "metadata": {},
   "outputs": [
    {
     "name": "stdout",
     "output_type": "stream",
     "text": [
      "15214\n"
     ]
    }
   ],
   "source": [
    "mut_info_sm_selected = mut_info_sm > 0\n",
    "mut_info_sm_selected_ind = np.where(mut_info_hw > 0)\n",
    "print(np.sum(mut_info_sm_selected))"
   ]
  },
  {
   "cell_type": "code",
   "execution_count": 51,
   "metadata": {},
   "outputs": [],
   "source": [
    "common_feat = np.intersect1d(mut_info_sm_selected_ind[0], mut_info_hw_selected_ind[0])"
   ]
  },
  {
   "cell_type": "code",
   "execution_count": 52,
   "metadata": {},
   "outputs": [
    {
     "name": "stdout",
     "output_type": "stream",
     "text": [
      "15043\n"
     ]
    }
   ],
   "source": [
    "print(len(common_feat))"
   ]
  },
  {
   "cell_type": "markdown",
   "metadata": {},
   "source": [
    "# Hardy Weinberg Equilibrium"
   ]
  },
  {
   "cell_type": "code",
   "execution_count": 53,
   "metadata": {},
   "outputs": [],
   "source": [
    "germplasm_hw_tr = germplasm_hw_tr.iloc[:,mut_info_hw_selected_ind[0]]"
   ]
  },
  {
   "cell_type": "code",
   "execution_count": 54,
   "metadata": {},
   "outputs": [
    {
     "data": {
      "text/html": [
       "<div>\n",
       "<style scoped>\n",
       "    .dataframe tbody tr th:only-of-type {\n",
       "        vertical-align: middle;\n",
       "    }\n",
       "\n",
       "    .dataframe tbody tr th {\n",
       "        vertical-align: top;\n",
       "    }\n",
       "\n",
       "    .dataframe thead th {\n",
       "        text-align: right;\n",
       "    }\n",
       "</style>\n",
       "<table border=\"1\" class=\"dataframe\">\n",
       "  <thead>\n",
       "    <tr style=\"text-align: right;\">\n",
       "      <th>Name</th>\n",
       "      <th>BK_05</th>\n",
       "      <th>BK_13</th>\n",
       "      <th>BK_14</th>\n",
       "      <th>BOPA1_10012-1239</th>\n",
       "      <th>BOPA1_1007-651</th>\n",
       "      <th>BOPA1_10207-1024</th>\n",
       "      <th>BOPA1_10248-954</th>\n",
       "      <th>BOPA1_10318-572</th>\n",
       "      <th>BOPA1_10321-364</th>\n",
       "      <th>BOPA1_1038-754</th>\n",
       "      <th>...</th>\n",
       "      <th>SCRI_RS_95857</th>\n",
       "      <th>SCRI_RS_9648</th>\n",
       "      <th>SCRI_RS_9736</th>\n",
       "      <th>SCRI_RS_97418</th>\n",
       "      <th>SCRI_RS_98248</th>\n",
       "      <th>SCRI_RS_98293</th>\n",
       "      <th>SCRI_RS_98443</th>\n",
       "      <th>SCRI_RS_99344</th>\n",
       "      <th>SCRI_RS_99798</th>\n",
       "      <th>SCRI_RS_9991</th>\n",
       "    </tr>\n",
       "  </thead>\n",
       "  <tbody>\n",
       "    <tr>\n",
       "      <th>G49</th>\n",
       "      <td>0.093364</td>\n",
       "      <td>0.779188</td>\n",
       "      <td>0.768328</td>\n",
       "      <td>0.694444</td>\n",
       "      <td>0.444444</td>\n",
       "      <td>0.089630</td>\n",
       "      <td>0.812224</td>\n",
       "      <td>0.486549</td>\n",
       "      <td>0.812224</td>\n",
       "      <td>0.604938</td>\n",
       "      <td>...</td>\n",
       "      <td>0.497373</td>\n",
       "      <td>0.432184</td>\n",
       "      <td>0.715173</td>\n",
       "      <td>0.390625</td>\n",
       "      <td>0.828999</td>\n",
       "      <td>0.874571</td>\n",
       "      <td>0.064053</td>\n",
       "      <td>0.458964</td>\n",
       "      <td>0.388698</td>\n",
       "      <td>0.0625</td>\n",
       "    </tr>\n",
       "    <tr>\n",
       "      <th>G340</th>\n",
       "      <td>0.482253</td>\n",
       "      <td>0.779188</td>\n",
       "      <td>0.768328</td>\n",
       "      <td>0.694444</td>\n",
       "      <td>0.111111</td>\n",
       "      <td>0.490865</td>\n",
       "      <td>0.812224</td>\n",
       "      <td>0.486549</td>\n",
       "      <td>0.812224</td>\n",
       "      <td>0.604938</td>\n",
       "      <td>...</td>\n",
       "      <td>0.497373</td>\n",
       "      <td>0.432184</td>\n",
       "      <td>0.715173</td>\n",
       "      <td>0.390625</td>\n",
       "      <td>0.008011</td>\n",
       "      <td>0.874571</td>\n",
       "      <td>0.557880</td>\n",
       "      <td>0.104026</td>\n",
       "      <td>0.388698</td>\n",
       "      <td>0.5625</td>\n",
       "    </tr>\n",
       "    <tr>\n",
       "      <th>G161</th>\n",
       "      <td>0.482253</td>\n",
       "      <td>0.207057</td>\n",
       "      <td>0.216430</td>\n",
       "      <td>0.694444</td>\n",
       "      <td>0.444444</td>\n",
       "      <td>0.419505</td>\n",
       "      <td>0.812224</td>\n",
       "      <td>0.486549</td>\n",
       "      <td>0.812224</td>\n",
       "      <td>0.345679</td>\n",
       "      <td>...</td>\n",
       "      <td>0.497373</td>\n",
       "      <td>0.117370</td>\n",
       "      <td>0.261012</td>\n",
       "      <td>0.468750</td>\n",
       "      <td>0.828999</td>\n",
       "      <td>0.874571</td>\n",
       "      <td>0.557880</td>\n",
       "      <td>0.458964</td>\n",
       "      <td>0.388698</td>\n",
       "      <td>0.0625</td>\n",
       "    </tr>\n",
       "    <tr>\n",
       "      <th>G175</th>\n",
       "      <td>0.482253</td>\n",
       "      <td>0.779188</td>\n",
       "      <td>0.768328</td>\n",
       "      <td>0.694444</td>\n",
       "      <td>0.444444</td>\n",
       "      <td>0.490865</td>\n",
       "      <td>0.812224</td>\n",
       "      <td>0.091488</td>\n",
       "      <td>0.812224</td>\n",
       "      <td>0.604938</td>\n",
       "      <td>...</td>\n",
       "      <td>0.086879</td>\n",
       "      <td>0.432184</td>\n",
       "      <td>0.715173</td>\n",
       "      <td>0.390625</td>\n",
       "      <td>0.828999</td>\n",
       "      <td>0.874571</td>\n",
       "      <td>0.557880</td>\n",
       "      <td>0.458964</td>\n",
       "      <td>0.388698</td>\n",
       "      <td>0.5625</td>\n",
       "    </tr>\n",
       "    <tr>\n",
       "      <th>G215</th>\n",
       "      <td>0.093364</td>\n",
       "      <td>0.779188</td>\n",
       "      <td>0.768328</td>\n",
       "      <td>0.027778</td>\n",
       "      <td>0.111111</td>\n",
       "      <td>0.490865</td>\n",
       "      <td>0.009755</td>\n",
       "      <td>0.486549</td>\n",
       "      <td>0.812224</td>\n",
       "      <td>0.604938</td>\n",
       "      <td>...</td>\n",
       "      <td>0.497373</td>\n",
       "      <td>0.432184</td>\n",
       "      <td>0.715173</td>\n",
       "      <td>0.390625</td>\n",
       "      <td>0.828999</td>\n",
       "      <td>0.874571</td>\n",
       "      <td>0.064053</td>\n",
       "      <td>0.458964</td>\n",
       "      <td>0.141785</td>\n",
       "      <td>0.5625</td>\n",
       "    </tr>\n",
       "  </tbody>\n",
       "</table>\n",
       "<p>5 rows × 15043 columns</p>\n",
       "</div>"
      ],
      "text/plain": [
       "Name     BK_05     BK_13     BK_14  BOPA1_10012-1239  BOPA1_1007-651  \\\n",
       "G49   0.093364  0.779188  0.768328          0.694444        0.444444   \n",
       "G340  0.482253  0.779188  0.768328          0.694444        0.111111   \n",
       "G161  0.482253  0.207057  0.216430          0.694444        0.444444   \n",
       "G175  0.482253  0.779188  0.768328          0.694444        0.444444   \n",
       "G215  0.093364  0.779188  0.768328          0.027778        0.111111   \n",
       "\n",
       "Name  BOPA1_10207-1024  BOPA1_10248-954  BOPA1_10318-572  BOPA1_10321-364  \\\n",
       "G49           0.089630         0.812224         0.486549         0.812224   \n",
       "G340          0.490865         0.812224         0.486549         0.812224   \n",
       "G161          0.419505         0.812224         0.486549         0.812224   \n",
       "G175          0.490865         0.812224         0.091488         0.812224   \n",
       "G215          0.490865         0.009755         0.486549         0.812224   \n",
       "\n",
       "Name  BOPA1_1038-754  ...  SCRI_RS_95857  SCRI_RS_9648  SCRI_RS_9736  \\\n",
       "G49         0.604938  ...       0.497373      0.432184      0.715173   \n",
       "G340        0.604938  ...       0.497373      0.432184      0.715173   \n",
       "G161        0.345679  ...       0.497373      0.117370      0.261012   \n",
       "G175        0.604938  ...       0.086879      0.432184      0.715173   \n",
       "G215        0.604938  ...       0.497373      0.432184      0.715173   \n",
       "\n",
       "Name  SCRI_RS_97418  SCRI_RS_98248  SCRI_RS_98293  SCRI_RS_98443  \\\n",
       "G49        0.390625       0.828999       0.874571       0.064053   \n",
       "G340       0.390625       0.008011       0.874571       0.557880   \n",
       "G161       0.468750       0.828999       0.874571       0.557880   \n",
       "G175       0.390625       0.828999       0.874571       0.557880   \n",
       "G215       0.390625       0.828999       0.874571       0.064053   \n",
       "\n",
       "Name  SCRI_RS_99344  SCRI_RS_99798  SCRI_RS_9991  \n",
       "G49        0.458964       0.388698        0.0625  \n",
       "G340       0.104026       0.388698        0.5625  \n",
       "G161       0.458964       0.388698        0.0625  \n",
       "G175       0.458964       0.388698        0.5625  \n",
       "G215       0.458964       0.141785        0.5625  \n",
       "\n",
       "[5 rows x 15043 columns]"
      ]
     },
     "execution_count": 54,
     "metadata": {},
     "output_type": "execute_result"
    }
   ],
   "source": [
    "germplasm_hw_tr.head(5)"
   ]
  },
  {
   "cell_type": "code",
   "execution_count": 55,
   "metadata": {},
   "outputs": [],
   "source": [
    "germplasm_hw_test = germplasm_hw_test.iloc[:, mut_info_hw_selected_ind[0]]"
   ]
  },
  {
   "cell_type": "code",
   "execution_count": 56,
   "metadata": {},
   "outputs": [
    {
     "name": "stderr",
     "output_type": "stream",
     "text": [
      "/opt/anaconda3/lib/python3.7/site-packages/sklearn/ensemble/forest.py:245: FutureWarning: The default value of n_estimators will change from 10 in version 0.20 to 100 in 0.22.\n",
      "  \"10 in version 0.20 to 100 in 0.22.\", FutureWarning)\n"
     ]
    },
    {
     "data": {
      "text/plain": [
       "RandomForestClassifier(bootstrap=True, class_weight=None, criterion='gini',\n",
       "                       max_depth=None, max_features='auto', max_leaf_nodes=None,\n",
       "                       min_impurity_decrease=0.0, min_impurity_split=None,\n",
       "                       min_samples_leaf=1, min_samples_split=2,\n",
       "                       min_weight_fraction_leaf=0.0, n_estimators=10,\n",
       "                       n_jobs=None, oob_score=False, random_state=5, verbose=0,\n",
       "                       warm_start=False)"
      ]
     },
     "execution_count": 56,
     "metadata": {},
     "output_type": "execute_result"
    }
   ],
   "source": [
    "classifier = RandomForestClassifier(random_state=RANDOM_STATE)\n",
    "classifier.fit(germplasm_hw_tr.to_numpy(), tr_fhb.to_numpy())"
   ]
  },
  {
   "cell_type": "code",
   "execution_count": 57,
   "metadata": {},
   "outputs": [],
   "source": [
    "predicted = classifier.predict(germplasm_hw_test.to_numpy())"
   ]
  },
  {
   "cell_type": "code",
   "execution_count": 58,
   "metadata": {},
   "outputs": [
    {
     "name": "stdout",
     "output_type": "stream",
     "text": [
      "Classification report for Hardy Weinberg Equilibrium Features\n",
      "              precision    recall  f1-score   support\n",
      "\n",
      "           1       0.75      0.50      0.60         6\n",
      "           2       0.70      0.83      0.76        23\n",
      "           3       0.67      0.55      0.60        11\n",
      "\n",
      "    accuracy                           0.70        40\n",
      "   macro avg       0.71      0.62      0.65        40\n",
      "weighted avg       0.70      0.70      0.69        40\n",
      "\n",
      "\n",
      "Confusion matrix\n",
      "[[ 3  3  0]\n",
      " [ 1 19  3]\n",
      " [ 0  5  6]]\n"
     ]
    }
   ],
   "source": [
    "print('Classification report for Hardy Weinberg Equilibrium Features')\n",
    "report = classification_report(test_fhb.to_numpy(), predicted)\n",
    "print(report)\n",
    "print()\n",
    "conf_mat = confusion_matrix(test_fhb.to_numpy(), predicted)\n",
    "print('Confusion matrix')\n",
    "print(conf_mat)"
   ]
  },
  {
   "cell_type": "markdown",
   "metadata": {},
   "source": [
    "# Simple -1, 0, 1 encoding"
   ]
  },
  {
   "cell_type": "code",
   "execution_count": 59,
   "metadata": {},
   "outputs": [],
   "source": [
    "germplasm_sm_tr = germplasm_sm_tr.iloc[:, mut_info_sm_selected_ind[0]]\n",
    "germplasm_sm_test = germplasm_sm_test.iloc[:, mut_info_sm_selected_ind[0]]"
   ]
  },
  {
   "cell_type": "code",
   "execution_count": 60,
   "metadata": {},
   "outputs": [
    {
     "name": "stderr",
     "output_type": "stream",
     "text": [
      "/opt/anaconda3/lib/python3.7/site-packages/sklearn/ensemble/forest.py:245: FutureWarning: The default value of n_estimators will change from 10 in version 0.20 to 100 in 0.22.\n",
      "  \"10 in version 0.20 to 100 in 0.22.\", FutureWarning)\n"
     ]
    },
    {
     "data": {
      "text/plain": [
       "RandomForestClassifier(bootstrap=True, class_weight=None, criterion='gini',\n",
       "                       max_depth=None, max_features='auto', max_leaf_nodes=None,\n",
       "                       min_impurity_decrease=0.0, min_impurity_split=None,\n",
       "                       min_samples_leaf=1, min_samples_split=2,\n",
       "                       min_weight_fraction_leaf=0.0, n_estimators=10,\n",
       "                       n_jobs=None, oob_score=False, random_state=5, verbose=0,\n",
       "                       warm_start=False)"
      ]
     },
     "execution_count": 60,
     "metadata": {},
     "output_type": "execute_result"
    }
   ],
   "source": [
    "classifier = RandomForestClassifier(random_state=RANDOM_STATE)\n",
    "classifier.fit(germplasm_sm_tr.to_numpy(), tr_fhb.to_numpy())"
   ]
  },
  {
   "cell_type": "code",
   "execution_count": 61,
   "metadata": {},
   "outputs": [],
   "source": [
    "predicted = classifier.predict(germplasm_sm_test.to_numpy())"
   ]
  },
  {
   "cell_type": "code",
   "execution_count": 62,
   "metadata": {},
   "outputs": [
    {
     "name": "stdout",
     "output_type": "stream",
     "text": [
      "Classification report for -1, 0, 1 Features\n",
      "              precision    recall  f1-score   support\n",
      "\n",
      "           1       1.00      0.50      0.67         6\n",
      "           2       0.67      0.87      0.75        23\n",
      "           3       0.57      0.36      0.44        11\n",
      "\n",
      "    accuracy                           0.68        40\n",
      "   macro avg       0.75      0.58      0.62        40\n",
      "weighted avg       0.69      0.68      0.66        40\n",
      "\n",
      "\n",
      "Confusion matrix\n",
      "[[ 3  3  0]\n",
      " [ 0 20  3]\n",
      " [ 0  7  4]]\n"
     ]
    }
   ],
   "source": [
    "print('Classification report for -1, 0, 1 Features')\n",
    "report = classification_report(test_fhb.to_numpy(), predicted)\n",
    "print(report)\n",
    "print()\n",
    "conf_mat = confusion_matrix(test_fhb.to_numpy(), predicted)\n",
    "print('Confusion matrix')\n",
    "print(conf_mat)"
   ]
  },
  {
   "cell_type": "code",
   "execution_count": null,
   "metadata": {},
   "outputs": [],
   "source": []
  }
 ],
 "metadata": {
  "kernelspec": {
   "display_name": "Python 3",
   "language": "python",
   "name": "python3"
  },
  "language_info": {
   "codemirror_mode": {
    "name": "ipython",
    "version": 3
   },
   "file_extension": ".py",
   "mimetype": "text/x-python",
   "name": "python",
   "nbconvert_exporter": "python",
   "pygments_lexer": "ipython3",
   "version": "3.8.5"
  }
 },
 "nbformat": 4,
 "nbformat_minor": 4
}
