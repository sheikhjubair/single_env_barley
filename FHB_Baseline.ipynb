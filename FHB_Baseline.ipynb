{
 "cells": [
  {
   "cell_type": "code",
   "execution_count": 124,
   "metadata": {},
   "outputs": [],
   "source": [
    "from sklearn.ensemble import RandomForestClassifier\n",
    "from sklearn.metrics import classification_report, confusion_matrix\n",
    "from sklearn.svm import SVC\n",
    "import pandas as pd"
   ]
  },
  {
   "cell_type": "code",
   "execution_count": 112,
   "metadata": {},
   "outputs": [],
   "source": [
    "RANDOM_STATE = 5"
   ]
  },
  {
   "cell_type": "code",
   "execution_count": 113,
   "metadata": {},
   "outputs": [],
   "source": [
    "germplasm_hw_tr = pd.read_pickle('Dataset/hw_encoded_tr.pkl')\n",
    "germplasm_hw_test = pd.read_pickle('Dataset/hw_encoded_test.pkl')\n",
    "germplasm_hw_val = pd.read_pickle('Dataset/hw_encoded_val.pkl')"
   ]
  },
  {
   "cell_type": "code",
   "execution_count": null,
   "metadata": {},
   "outputs": [],
   "source": [
    "germplasm_sm_tr = pd.read_pickle('Dataset/sm_encoded_tr.pkl')\n",
    "germplasm_sm_test = pd.read_pickle('Dataset/sm_encoded_test.pkl')\n",
    "germplasm_sm_val = pd.read_pickle('Dataset/sm_encoded_val.pkl')"
   ]
  },
  {
   "cell_type": "markdown",
   "metadata": {},
   "source": [
    "tr_fhb = pd.read_pickle('Dataset/tr_fhb.pkl')\n",
    "test_fhb = pd.read_pickle('Dataset/test_fhb.pkl')\n",
    "vali_fhb = pd.read_pickle('Dataset/vali_fhb.pkl')"
   ]
  },
  {
   "cell_type": "markdown",
   "metadata": {},
   "source": [
    "# Random Forest"
   ]
  },
  {
   "cell_type": "markdown",
   "metadata": {},
   "source": [
    "classifier = RandomForestClassifier(random_state=RANDOM_STATE)\n",
    "classifier.fit(germplasm_hw_tr.to_numpy(), tr_fhb.to_numpy())"
   ]
  },
  {
   "cell_type": "code",
   "execution_count": 116,
   "metadata": {},
   "outputs": [],
   "source": [
    "predicted = classifier.predict(germplasm_hw_test.to_numpy())"
   ]
  },
  {
   "cell_type": "code",
   "execution_count": 117,
   "metadata": {},
   "outputs": [
    {
     "name": "stdout",
     "output_type": "stream",
     "text": [
      "Classification report for Hardy Weinberg Equilibrium Features\n",
      "              precision    recall  f1-score   support\n",
      "\n",
      "           1       0.67      0.33      0.44         6\n",
      "           2       0.69      0.78      0.73        23\n",
      "           3       0.36      0.36      0.36        11\n",
      "\n",
      "    accuracy                           0.60        40\n",
      "   macro avg       0.57      0.49      0.51        40\n",
      "weighted avg       0.60      0.60      0.59        40\n",
      "\n",
      "\n",
      "Confusion matrix\n",
      "[[ 2  2  2]\n",
      " [ 0 18  5]\n",
      " [ 1  6  4]]\n"
     ]
    }
   ],
   "source": [
    "print('Classification report for Hardy Weinberg Equilibrium Features')\n",
    "report = classification_report(test_fhb.to_numpy(), predicted)\n",
    "print(report)\n",
    "print()\n",
    "conf_mat = confusion_matrix(test_fhb.to_numpy(), predicted)\n",
    "print('Confusion matrix')\n",
    "print(conf_mat)"
   ]
  },
  {
   "cell_type": "code",
   "execution_count": 118,
   "metadata": {},
   "outputs": [],
   "source": []
  },
  {
   "cell_type": "code",
   "execution_count": 119,
   "metadata": {},
   "outputs": [
    {
     "name": "stderr",
     "output_type": "stream",
     "text": [
      "/opt/anaconda3/lib/python3.7/site-packages/sklearn/ensemble/forest.py:245: FutureWarning: The default value of n_estimators will change from 10 in version 0.20 to 100 in 0.22.\n",
      "  \"10 in version 0.20 to 100 in 0.22.\", FutureWarning)\n"
     ]
    },
    {
     "data": {
      "text/plain": [
       "RandomForestClassifier(bootstrap=True, class_weight=None, criterion='gini',\n",
       "                       max_depth=None, max_features='auto', max_leaf_nodes=None,\n",
       "                       min_impurity_decrease=0.0, min_impurity_split=None,\n",
       "                       min_samples_leaf=1, min_samples_split=2,\n",
       "                       min_weight_fraction_leaf=0.0, n_estimators=10,\n",
       "                       n_jobs=None, oob_score=False, random_state=5, verbose=0,\n",
       "                       warm_start=False)"
      ]
     },
     "execution_count": 119,
     "metadata": {},
     "output_type": "execute_result"
    }
   ],
   "source": [
    "classifier = RandomForestClassifier(random_state=RANDOM_STATE)\n",
    "classifier.fit(germplasm_sm_tr.to_numpy(), tr_fhb.to_numpy())"
   ]
  },
  {
   "cell_type": "code",
   "execution_count": 120,
   "metadata": {},
   "outputs": [],
   "source": [
    "predicted = classifier.predict(germplasm_sm_test.to_numpy())"
   ]
  },
  {
   "cell_type": "code",
   "execution_count": 121,
   "metadata": {},
   "outputs": [
    {
     "name": "stdout",
     "output_type": "stream",
     "text": [
      "Classification report for -1, 0, 1 Features\n",
      "              precision    recall  f1-score   support\n",
      "\n",
      "           1       0.50      0.17      0.25         6\n",
      "           2       0.70      0.83      0.76        23\n",
      "           3       0.55      0.55      0.55        11\n",
      "\n",
      "    accuracy                           0.65        40\n",
      "   macro avg       0.58      0.51      0.52        40\n",
      "weighted avg       0.63      0.65      0.62        40\n",
      "\n",
      "\n",
      "Confusion matrix\n",
      "[[ 1  4  1]\n",
      " [ 0 19  4]\n",
      " [ 1  4  6]]\n"
     ]
    }
   ],
   "source": [
    "print('Classification report for -1, 0, 1 Features')\n",
    "report = classification_report(test_fhb.to_numpy(), predicted)\n",
    "print(report)\n",
    "print()\n",
    "conf_mat = confusion_matrix(test_fhb.to_numpy(), predicted)\n",
    "print('Confusion matrix')\n",
    "print(conf_mat)"
   ]
  },
  {
   "cell_type": "code",
   "execution_count": null,
   "metadata": {},
   "outputs": [],
   "source": [
    "# SVM"
   ]
  },
  {
   "cell_type": "code",
   "execution_count": 125,
   "metadata": {},
   "outputs": [
    {
     "name": "stderr",
     "output_type": "stream",
     "text": [
      "/opt/anaconda3/lib/python3.7/site-packages/sklearn/svm/base.py:193: FutureWarning: The default value of gamma will change from 'auto' to 'scale' in version 0.22 to account better for unscaled features. Set gamma explicitly to 'auto' or 'scale' to avoid this warning.\n",
      "  \"avoid this warning.\", FutureWarning)\n"
     ]
    },
    {
     "data": {
      "text/plain": [
       "SVC(C=1.0, cache_size=200, class_weight=None, coef0=0.0,\n",
       "    decision_function_shape='ovr', degree=3, gamma='auto_deprecated',\n",
       "    kernel='rbf', max_iter=-1, probability=False, random_state=5,\n",
       "    shrinking=True, tol=0.001, verbose=False)"
      ]
     },
     "execution_count": 125,
     "metadata": {},
     "output_type": "execute_result"
    }
   ],
   "source": [
    "classifier = SVC(random_state=RANDOM_STATE)\n",
    "classifier.fit(germplasm_hw_tr.to_numpy(), tr_fhb.to_numpy())"
   ]
  },
  {
   "cell_type": "code",
   "execution_count": 126,
   "metadata": {},
   "outputs": [],
   "source": [
    "predicted = classifier.predict(germplasm_hw_test.to_numpy())"
   ]
  },
  {
   "cell_type": "code",
   "execution_count": 127,
   "metadata": {},
   "outputs": [
    {
     "name": "stdout",
     "output_type": "stream",
     "text": [
      "Classification report for Hardy Weinberg Equilibrium Features\n",
      "              precision    recall  f1-score   support\n",
      "\n",
      "           1       0.00      0.00      0.00         6\n",
      "           2       0.57      1.00      0.73        23\n",
      "           3       0.00      0.00      0.00        11\n",
      "\n",
      "    accuracy                           0.57        40\n",
      "   macro avg       0.19      0.33      0.24        40\n",
      "weighted avg       0.33      0.57      0.42        40\n",
      "\n",
      "\n",
      "Confusion matrix\n",
      "[[ 0  6  0]\n",
      " [ 0 23  0]\n",
      " [ 0 11  0]]\n"
     ]
    },
    {
     "name": "stderr",
     "output_type": "stream",
     "text": [
      "/opt/anaconda3/lib/python3.7/site-packages/sklearn/metrics/classification.py:1437: UndefinedMetricWarning: Precision and F-score are ill-defined and being set to 0.0 in labels with no predicted samples.\n",
      "  'precision', 'predicted', average, warn_for)\n"
     ]
    }
   ],
   "source": [
    "print('Classification report for Hardy Weinberg Equilibrium Features')\n",
    "report = classification_report(test_fhb.to_numpy(), predicted)\n",
    "print(report)\n",
    "print()\n",
    "conf_mat = confusion_matrix(test_fhb.to_numpy(), predicted)\n",
    "print('Confusion matrix')\n",
    "print(conf_mat)"
   ]
  },
  {
   "cell_type": "code",
   "execution_count": 128,
   "metadata": {},
   "outputs": [
    {
     "name": "stderr",
     "output_type": "stream",
     "text": [
      "/opt/anaconda3/lib/python3.7/site-packages/sklearn/svm/base.py:193: FutureWarning: The default value of gamma will change from 'auto' to 'scale' in version 0.22 to account better for unscaled features. Set gamma explicitly to 'auto' or 'scale' to avoid this warning.\n",
      "  \"avoid this warning.\", FutureWarning)\n"
     ]
    },
    {
     "data": {
      "text/plain": [
       "SVC(C=1.0, cache_size=200, class_weight=None, coef0=0.0,\n",
       "    decision_function_shape='ovr', degree=3, gamma='auto_deprecated',\n",
       "    kernel='rbf', max_iter=-1, probability=False, random_state=5,\n",
       "    shrinking=True, tol=0.001, verbose=False)"
      ]
     },
     "execution_count": 128,
     "metadata": {},
     "output_type": "execute_result"
    }
   ],
   "source": [
    "classifier = SVC(random_state=RANDOM_STATE)\n",
    "classifier.fit(germplasm_sm_tr.to_numpy(), tr_fhb.to_numpy())"
   ]
  },
  {
   "cell_type": "code",
   "execution_count": 129,
   "metadata": {},
   "outputs": [],
   "source": [
    "predicted = classifier.predict(germplasm_hw_test.to_numpy())"
   ]
  },
  {
   "cell_type": "code",
   "execution_count": 130,
   "metadata": {},
   "outputs": [
    {
     "name": "stdout",
     "output_type": "stream",
     "text": [
      "Classification report for Hardy Weinberg Equilibrium Features\n",
      "              precision    recall  f1-score   support\n",
      "\n",
      "           1       0.00      0.00      0.00         6\n",
      "           2       0.00      0.00      0.00        23\n",
      "           3       0.28      1.00      0.43        11\n",
      "\n",
      "    accuracy                           0.28        40\n",
      "   macro avg       0.09      0.33      0.14        40\n",
      "weighted avg       0.08      0.28      0.12        40\n",
      "\n",
      "\n",
      "Confusion matrix\n",
      "[[ 0  0  6]\n",
      " [ 0  0 23]\n",
      " [ 0  0 11]]\n"
     ]
    },
    {
     "name": "stderr",
     "output_type": "stream",
     "text": [
      "/opt/anaconda3/lib/python3.7/site-packages/sklearn/metrics/classification.py:1437: UndefinedMetricWarning: Precision and F-score are ill-defined and being set to 0.0 in labels with no predicted samples.\n",
      "  'precision', 'predicted', average, warn_for)\n"
     ]
    }
   ],
   "source": [
    "print('Classification report for Hardy Weinberg Equilibrium Features')\n",
    "report = classification_report(test_fhb.to_numpy(), predicted)\n",
    "print(report)\n",
    "print()\n",
    "conf_mat = confusion_matrix(test_fhb.to_numpy(), predicted)\n",
    "print('Confusion matrix')\n",
    "print(conf_mat)"
   ]
  }
 ],
 "metadata": {
  "kernelspec": {
   "display_name": "Python 3",
   "language": "python",
   "name": "python3"
  },
  "language_info": {
   "codemirror_mode": {
    "name": "ipython",
    "version": 3
   },
   "file_extension": ".py",
   "mimetype": "text/x-python",
   "name": "python",
   "nbconvert_exporter": "python",
   "pygments_lexer": "ipython3",
   "version": "3.7.6"
  }
 },
 "nbformat": 4,
 "nbformat_minor": 4
}
